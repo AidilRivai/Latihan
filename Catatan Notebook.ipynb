{
 "cells": [
  {
   "cell_type": "code",
   "execution_count": 1,
   "id": "f2f10ea6",
   "metadata": {},
   "outputs": [
    {
     "data": {
      "text/plain": [
       "2"
      ]
     },
     "execution_count": 1,
     "metadata": {},
     "output_type": "execute_result"
    }
   ],
   "source": [
    "1+1"
   ]
  },
  {
   "cell_type": "markdown",
   "id": "b7edb993",
   "metadata": {},
   "source": [
    "ini adalah markdown, tidak akan di run sebagai code python"
   ]
  },
  {
   "cell_type": "code",
   "execution_count": 4,
   "id": "db9979d3",
   "metadata": {},
   "outputs": [],
   "source": [
    "# ini adalah comment"
   ]
  },
  {
   "cell_type": "code",
   "execution_count": null,
   "id": "cd16d61f",
   "metadata": {},
   "outputs": [],
   "source": [
    "a = above\n",
    "b = below"
   ]
  },
  {
   "cell_type": "code",
   "execution_count": 5,
   "id": "b24c93c6",
   "metadata": {},
   "outputs": [],
   "source": [
    "import numpy"
   ]
  },
  {
   "cell_type": "code",
   "execution_count": 6,
   "id": "7227856b",
   "metadata": {},
   "outputs": [],
   "source": [
    "import pandas"
   ]
  },
  {
   "cell_type": "code",
   "execution_count": 7,
   "id": "440a7867",
   "metadata": {},
   "outputs": [],
   "source": [
    "import scipy"
   ]
  },
  {
   "cell_type": "code",
   "execution_count": 8,
   "id": "32b8660a",
   "metadata": {},
   "outputs": [],
   "source": [
    "a= 15"
   ]
  },
  {
   "cell_type": "code",
   "execution_count": 9,
   "id": "d6f133cf",
   "metadata": {},
   "outputs": [],
   "source": [
    "a+=10"
   ]
  },
  {
   "cell_type": "code",
   "execution_count": 10,
   "id": "769deed8",
   "metadata": {},
   "outputs": [
    {
     "data": {
      "text/plain": [
       "25"
      ]
     },
     "execution_count": 10,
     "metadata": {},
     "output_type": "execute_result"
    }
   ],
   "source": [
    "a"
   ]
  },
  {
   "cell_type": "code",
   "execution_count": 12,
   "id": "2d2ebd20",
   "metadata": {},
   "outputs": [
    {
     "name": "stdout",
     "output_type": "stream",
     "text": [
      "angka ganjil\n"
     ]
    }
   ],
   "source": [
    "if a%2==0:\n",
    "    print(\"angka genap\")\n",
    "else:\n",
    "    print(\"angka ganjil\")"
   ]
  },
  {
   "cell_type": "code",
   "execution_count": null,
   "id": "5cd972ac",
   "metadata": {},
   "outputs": [],
   "source": []
  }
 ],
 "metadata": {
  "kernelspec": {
   "display_name": "Python 3",
   "language": "python",
   "name": "python3"
  },
  "language_info": {
   "codemirror_mode": {
    "name": "ipython",
    "version": 3
   },
   "file_extension": ".py",
   "mimetype": "text/x-python",
   "name": "python",
   "nbconvert_exporter": "python",
   "pygments_lexer": "ipython3",
   "version": "3.8.8"
  }
 },
 "nbformat": 4,
 "nbformat_minor": 5
}
